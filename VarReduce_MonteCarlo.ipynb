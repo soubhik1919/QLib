{
 "cells": [
  {
   "cell_type": "code",
   "execution_count": 1,
   "metadata": {},
   "outputs": [],
   "source": [
    "import numpy as np\n",
    "import matplotlib.pyplot as plt"
   ]
  },
  {
   "cell_type": "markdown",
   "metadata": {},
   "source": [
    "### Antithetic Variance Reduction ###\n",
    "\n",
    "Acceptably accurate estimate of option price typically requires a large nuber of Monte Carlo simulations.\n",
    "\n",
    "Variance reduction techniques address this issue by improving accuarcy and convergence.\n",
    "\n",
    "Antithetic variance reduction technique considers a portfolio of two same options written on two perfectly negatively correlated assets having the same initial price $S_{0}$.\n",
    "\n",
    "$$\n",
    "dS_{\\pm} = r Sdt \\pm \\sigma Sdw\n",
    "$$\n",
    "\n",
    "Although the value of the two options are identical, the variance of the payoff of the above portfolio is much less than the variance of the individual option(s) payoff. The fact is used to obtain a much more accurate estimate of the option price with the same effective number of simulations."
   ]
  },
  {
   "cell_type": "code",
   "execution_count": 20,
   "metadata": {},
   "outputs": [],
   "source": [
    "def S1AV_GBM(S0: float, mu: list, sigma: list, T: float, nsteps: int, nsim: int) -> list:\n",
    "    '''\n",
    "    Generate oppositely correlated asset price array (antithetic variate)\n",
    "\n",
    "    S0: initial asset price\n",
    "    mu: mean rate of asset return\n",
    "    sigma: asset volatility\n",
    "    T: time period\n",
    "    nsteps: number of steps\n",
    "    nsim: number of simulation of the asset price process\n",
    "    '''\n",
    "    dt = T/nsteps\n",
    "    dw = np.sqrt(dt)*np.random.standard_normal(size=(nsim,nsteps)) # generate the (nsim, nsteps) brownian motion sample\n",
    "    dz = (mu-0.5*sigma**2)*dt + sigma*dw\n",
    "    dz_ =  (mu-0.5*sigma**2)*dt - sigma*dw # negatively correlated asset\n",
    "\n",
    "    Sn = np.exp(np.cumsum(dz, axis=1)) # generate the (nsim, nsteps) geometric brownian momtion price process\n",
    "    Sn_ = np.exp(np.cumsum(dz_, axis=1))\n",
    "\n",
    "    Sn=np.vstack((Sn, Sn_))\n",
    "    Sn = S0*np.concatenate((np.ones(shape=(2*nsim,1)),Sn), axis=1) # add the initial value\n",
    "\n",
    "    return (Sn)"
   ]
  },
  {
   "cell_type": "code",
   "execution_count": 21,
   "metadata": {},
   "outputs": [],
   "source": [
    "def MCAV_Euro(S0: float, K: float, r: float, sigma: float, div: float, T: float, Nsteps: int, Nsim: int, optype: str) -> float:\n",
    "    '''\n",
    "    Monte Carlo estimate with antithetic variance reduction\n",
    "\n",
    "    S0: initial asset price\n",
    "    K: strike price\n",
    "    r: risk-free rate\n",
    "    sigma: volatility\n",
    "    div: continuous dividend yeild\n",
    "    T: time to maturity\n",
    "    Nsteps: number of time steps to maturity\n",
    "    Nsim: number of independent simulations to average\n",
    "    optype: option type ('call' or 'put')\n",
    "    '''\n",
    "        \n",
    "    mu = r-div\n",
    "\n",
    "    dt = T/Nsteps\n",
    "    nu = (r-div)-0.5*sigma**2\n",
    "    dfact = r*dt + np.zeros(Nsteps)\n",
    "\n",
    "    # parameter exception\n",
    "    if ((0<r) and (0<sigma) and (0<div)):\n",
    "        pass\n",
    "    else:\n",
    "        raise Exception('parameter values not allowed')\n",
    "    \n",
    "    Smat = S1AV_GBM(S0=S0, mu=mu, sigma=sigma, T=T, nsteps=Nsteps, nsim=Nsim)\n",
    "    Sarr = Smat[:,-1] # stock price at maturity\n",
    "    Parr = Sarr-K # payoff\n",
    "\n",
    "    if optype == 'call':\n",
    "        Parr[Parr<0] = 0\n",
    "        Parr = Parr\n",
    "    elif optype == 'put':\n",
    "        Parr[Parr>0] = 0\n",
    "        Parr = -Parr\n",
    "    else: raise Exception('optype must be call or put')\n",
    "\n",
    "    V0arr = np.exp(-np.sum(dfact))*Parr\n",
    "\n",
    "    return(np.mean(V0arr))   \n"
   ]
  },
  {
   "cell_type": "code",
   "execution_count": 50,
   "metadata": {},
   "outputs": [
    {
     "name": "stdout",
     "output_type": "stream",
     "text": [
      "9.452\n"
     ]
    }
   ],
   "source": [
    "price=MCAV_Euro(S0=100, K=100, r=0.06, sigma=0.2, div=0.03, T=1, Nsteps=10, Nsim=500, optype='call')\n",
    "print(np.round(price,3))"
   ]
  },
  {
   "cell_type": "code",
   "execution_count": 47,
   "metadata": {},
   "outputs": [
    {
     "data": {
      "text/plain": [
       "Text(0.5, 1.0, 'price convergence: MonteCarlo_antithetic')"
      ]
     },
     "execution_count": 47,
     "metadata": {},
     "output_type": "execute_result"
    },
    {
     "data": {
      "image/png": "[encoded data removed]",
      "text/plain": [
       "<Figure size 640x480 with 1 Axes>"
      ]
     },
     "metadata": {},
     "output_type": "display_data"
    }
   ],
   "source": [
    "# calculate parameters\n",
    "S0=100\n",
    "K=90\n",
    "r=0.06\n",
    "sigma=0.2\n",
    "div=0.03\n",
    "T=1\n",
    "Nsteps=10\n",
    "\n",
    "NSims=np.logspace(1.5,3,10).astype(int) # simulation sizes\n",
    "\n",
    "price_mean=[]\n",
    "price_std=[]\n",
    "for nsim in NSims:\n",
    "    price_arr=[]\n",
    "    for ntrials in range(100):\n",
    "        price=MCPM_Euro(S0=S0, K=K, r=r, sigma=sigma, div=div, T=1, Nsteps=Nsteps, Nsim=nsim, optype='call') # Monte Carlo with antithetic variance reduction\n",
    "        price_arr.append(price)\n",
    "    price_mean.append(np.mean(price_arr))\n",
    "    price_std.append(np.std(price_arr))\n",
    "    \n",
    "# plot\n",
    "fig,ax = plt.subplots()\n",
    "ax.errorbar(NSims, price_mean, yerr=price_std, marker='o', mfc='None', mec='blue', capsize=3, alpha=0.5)\n",
    "ax.set_xlabel('nsims')\n",
    "ax.set_ylabel('price')\n",
    "ax.set_title('price convergence: MonteCarlo_antithetic')"
   ]
  }
 ],
 "metadata": {
  "kernelspec": {
   "display_name": "envfin",
   "language": "python",
   "name": "python3"
  },
  "language_info": {
   "codemirror_mode": {
    "name": "ipython",
    "version": 3
   },
   "file_extension": ".py",
   "mimetype": "text/x-python",
   "name": "python",
   "nbconvert_exporter": "python",
   "pygments_lexer": "ipython3",
   "version": "3.11.4"
  }
 },
 "nbformat": 4,
 "nbformat_minor": 2
}
