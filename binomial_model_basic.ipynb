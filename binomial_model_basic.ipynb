{
 "cells": [
  {
   "cell_type": "code",
   "execution_count": 2,
   "metadata": {},
   "outputs": [],
   "source": [
    "import numpy as np\n",
    "import matplotlib.pyplot as plt"
   ]
  },
  {
   "cell_type": "markdown",
   "metadata": {},
   "source": [
    "### Multiplicative Binomial Model ###\n",
    "The binomial model provides a simple and intuitive numerical method to price options, particularly American style options.\n",
    "\n",
    "The (multiplicative) binomial asset price model specifies that in an interval $\\Delta t$ the asset price $S$ can only go up to $uS$ or down to $dS$.\n",
    "\n",
    "Each $(i,j)$ in the model represents a node at time step $i$ having $j$ upward movements where $i \\in [0,N]$ and $j \\in [0,i]$.\n",
    "\n",
    "$$\n",
    "S_{i,j}=S_{0}u^{j}d^{i-j}\n",
    "$$\n",
    "\n",
    "The value of the option at maturity is known.\n",
    "\n",
    "The value of an European option at any node is its discounted expected future value under the risk-neutral probalities.\n",
    "$$\n",
    "C_{i,j}=\\exp^{-r\\Delta t}(pC_{i+1, j+1} + (1-p)C_{i+1,j})\n",
    "$$\n",
    "\n",
    "The value of an American option at any node with payoff $P_{i,j}$ is \n",
    "$$\n",
    "C_{i,j}=max(\\exp^{-r\\Delta t}(pC_{i+1, j+1} + (1-p)C_{i+1,j}),P_{i,j})\n",
    "$$\n",
    "\n",
    "\n"
   ]
  },
  {
   "cell_type": "code",
   "execution_count": 3,
   "metadata": {},
   "outputs": [],
   "source": [
    "def BM_Euro(S0: float, K: float, r: float, u: float, d: float, T: float, Ntree: int, optype: str) -> float:\n",
    "    '''\n",
    "    S0: initial asset price\n",
    "    K: strike price\n",
    "    r: risk-free rate\n",
    "    u: up factor\n",
    "    d: down factor\n",
    "    T: time to maturity\n",
    "    Ntree: number of periods\n",
    "    optype: option type ('call' or 'put')\n",
    "    '''\n",
    "    dt = T/Ntree\n",
    "    dfact = np.exp(-r*dt) # discount factor\n",
    "    p = (np.exp(r*dt)-d)/(u-d) # risk neutral probability of up move\n",
    "    \n",
    "    # parameter exception\n",
    "    if ((0<d) and (d<1/dfact) and (1/dfact<u)):\n",
    "        pass\n",
    "    else:\n",
    "        raise Exception('parameter values not allowed')\n",
    "    exponents = np.arange(Ntree+1)\n",
    "    SN = S0*(u**exponents[::-1])*(d**exponents) # asset prices at T\n",
    "\n",
    "    #payoff matrix\n",
    "    Pmat = np.zeros(shape=(Ntree+1,Ntree+1))\n",
    "    Pmat[Ntree, 0] = S0\n",
    "    for t in range (Ntree+1): # asset price\n",
    "        exponents = np.arange(t+1)\n",
    "        Pmat[Ntree-t:,t] = S0*(u**exponents[::-1])*(d**exponents)\n",
    "    Kmat = K*np.fliplr(np.tri(Ntree+1)) # strike\n",
    "    Pmat = Pmat-Kmat\n",
    "\n",
    "    if optype == 'call':\n",
    "        Pmat[Pmat<0] = 0\n",
    "        Pmat = Pmat\n",
    "    elif optype == 'put':\n",
    "        Pmat[Pmat>0] = 0\n",
    "        Pmat = -Pmat\n",
    "    else: raise Exception('optype must be call or put')\n",
    "\n",
    "    # payoff at maturity T\n",
    "    Vmat = np.zeros(shape=(Ntree+1,Ntree+1))\n",
    "    Vmat[:,-1] = Pmat[:,-1]\n",
    "\n",
    "    # backward step wise option price calculation\n",
    "    for m, t in enumerate(range(Ntree-1,-1,-1)):\n",
    "        Vmat[m+1:, t] = dfact*(p*Vmat[m:Ntree, t+1] + (1-p)*Vmat[m+1:, t+1]) \n",
    "    return (Vmat)    "
   ]
  },
  {
   "cell_type": "code",
   "execution_count": 4,
   "metadata": {},
   "outputs": [
    {
     "name": "stdout",
     "output_type": "stream",
     "text": [
      "[[ 0.     0.     0.    33.1  ]\n",
      " [ 0.     0.    22.98  10.001]\n",
      " [ 0.    15.447  5.705  0.   ]\n",
      " [10.145  3.255  0.     0.   ]]\n"
     ]
    }
   ],
   "source": [
    "price=BM_Euro(S0=100, K=100, r=0.06, u=1.1, d=0.9091, T=1, Ntree=3, optype='call')\n",
    "print(np.around(price,3))"
   ]
  },
  {
   "cell_type": "code",
   "execution_count": 5,
   "metadata": {},
   "outputs": [],
   "source": [
    "def BM_Amer(S0: float, K: float, r: float, u: float, d: float, T: float, Ntree: int, optype: str, exmat: bool = False) -> float:\n",
    "    '''\n",
    "    S0: initial asset price\n",
    "    K: strike price\n",
    "    r: risk-free rate\n",
    "    u: up factor\n",
    "    d: down factor\n",
    "    T: time to maturity\n",
    "    Ntree: number of periods\n",
    "    optype: option type ('call' or 'put')\n",
    "    exmat: show early exercise\n",
    "    '''\n",
    "    dt = T/Ntree\n",
    "    dfact = np.exp(-r*dt) # discount factor\n",
    "    p = (np.exp(r*dt)-d)/(u-d) # risk neutral probability of up move\n",
    "    \n",
    "    # parameter exception\n",
    "    if ((0<d) and (d<1/dfact) and (1/dfact<u)):\n",
    "        pass\n",
    "    else:\n",
    "        raise Exception('parameter values not allowed')\n",
    "    exponents = np.arange(Ntree+1)\n",
    "    SN = S0*(u**exponents[::-1])*(d**exponents) # asset prices at T\n",
    "\n",
    "    #payoff matrix\n",
    "    Pmat = np.zeros(shape=(Ntree+1,Ntree+1))\n",
    "    Pmat[Ntree, 0] = S0\n",
    "    for t in range (Ntree+1): # asset price\n",
    "        exponents = np.arange(t+1)\n",
    "        Pmat[Ntree-t:,t] = S0*(u**exponents[::-1])*(d**exponents)\n",
    "    Kmat = K*np.fliplr(np.tri(Ntree+1)) # strike\n",
    "    Pmat = Pmat-Kmat\n",
    "\n",
    "    if optype == 'call':\n",
    "        Pmat[Pmat<0] = 0\n",
    "        Pmat = Pmat\n",
    "    elif optype == 'put':\n",
    "        Pmat[Pmat>0] = 0\n",
    "        Pmat = -Pmat\n",
    "    else: raise Exception('optype must be call or put')\n",
    "\n",
    "    # payoff at maturity T\n",
    "    Vmat = np.zeros(shape=(Ntree+1,Ntree+1))\n",
    "    Vmat[:,-1] = Pmat[:,-1]\n",
    "\n",
    "    # backward step wise option price calculation\n",
    "    if exmat == True:\n",
    "        Exmat = np.zeros(shape=(Ntree+1,Ntree+1))\n",
    "        for m, t in enumerate(range(Ntree-1,-1,-1)):\n",
    "            Vmat[m+1:, t] = np.maximum(dfact*(p*Vmat[m:Ntree, t+1] + (1-p)*Vmat[m+1:, t+1]), Pmat[m+1:, t]) # modified for American option\n",
    "            Exmat[m+1:, t] = (dfact*(p*Vmat[m:Ntree, t+1] + (1-p)*Vmat[m+1:, t+1]) - Pmat[m+1:, t])<0 # early exercise\n",
    "        plt.matshow(Exmat, cmap=plt.cm.YlGn, aspect=0.5 )\n",
    "        plt.title('Early exercise')\n",
    "    if exmat == False:\n",
    "        for m, t in enumerate(range(Ntree-1,-1,-1)):\n",
    "            Vmat[m+1:, t] = np.maximum(dfact*(p*Vmat[m:Ntree, t+1] + (1-p)*Vmat[m+1:, t+1]), Pmat[m+1:, t]) # modified for American option\n",
    "\n",
    "    return (Vmat)"
   ]
  },
  {
   "cell_type": "code",
   "execution_count": 6,
   "metadata": {},
   "outputs": [
    {
     "name": "stdout",
     "output_type": "stream",
     "text": [
      "[[ 0.     0.     0.    -0.   ]\n",
      " [ 0.     0.    -0.    -0.   ]\n",
      " [ 0.     1.526  3.724  9.089]\n",
      " [ 4.654  9.235 17.354 24.866]]\n"
     ]
    },
    {
     "data": {
      "image/png": "[encoded data removed]",
      "text/plain": [
       "<Figure size 480x480 with 1 Axes>"
      ]
     },
     "metadata": {},
     "output_type": "display_data"
    }
   ],
   "source": [
    "price=BM_Amer(S0=100, K=100, r=0.06, u=1.1, d=0.9091, T=1, Ntree=3, optype='put',exmat=True)\n",
    "print(np.around(price,3))"
   ]
  },
  {
   "cell_type": "code",
   "execution_count": 9,
   "metadata": {},
   "outputs": [
    {
     "name": "stdout",
     "output_type": "stream",
     "text": [
      "European put price\n",
      "[[ 0.     0.     0.    -0.   ]\n",
      " [ 0.     0.    -0.    -0.   ]\n",
      " [ 0.     1.526  3.724  9.089]\n",
      " [ 4.322  8.424 15.374 24.866]]\n",
      "American put price\n",
      "[[ 0.     0.     0.    -0.   ]\n",
      " [ 0.     0.    -0.    -0.   ]\n",
      " [ 0.     1.526  3.724  9.089]\n",
      " [ 4.654  9.235 17.354 24.866]]\n"
     ]
    }
   ],
   "source": [
    "# European and American option price comparison\n",
    "price=BM_Euro(S0=100, K=100, r=0.06, u=1.1, d=0.9091, T=1, Ntree=3, optype='put')\n",
    "print('European put price')\n",
    "print(np.around(price,3))\n",
    "\n",
    "price=BM_Amer(S0=100, K=100, r=0.06, u=1.1, d=0.9091, T=1, Ntree=3, optype='put')\n",
    "print('American put price')\n",
    "print(np.around(price,3))"
   ]
  }
 ],
 "metadata": {
  "kernelspec": {
   "display_name": "envfin",
   "language": "python",
   "name": "python3"
  },
  "language_info": {
   "codemirror_mode": {
    "name": "ipython",
    "version": 3
   },
   "file_extension": ".py",
   "mimetype": "text/x-python",
   "name": "python",
   "nbconvert_exporter": "python",
   "pygments_lexer": "ipython3",
   "version": "3.11.4"
  }
 },
 "nbformat": 4,
 "nbformat_minor": 2
}
