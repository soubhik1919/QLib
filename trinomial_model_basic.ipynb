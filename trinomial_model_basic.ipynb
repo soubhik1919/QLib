{
 "cells": [
  {
   "cell_type": "code",
   "execution_count": 1,
   "metadata": {},
   "outputs": [],
   "source": [
    "import numpy as np\n",
    "import matplotlib.pyplot as plt"
   ]
  },
  {
   "cell_type": "markdown",
   "metadata": {},
   "source": [
    "### Trinomial Model ###\n",
    "A binomial model suffers severely from issues of accuracy and convergence.\n",
    "\n",
    "Similar to the binomial model, option prices can be computed using discounted expectation in a trinomial tree. \n",
    "\n",
    "The log of asset price in a recombinant (additive) trinomial tree can go up by $\\Delta_{x}$, stay the same or go down by $\\Delta_{x}$ with probabilities $p_{u}$, $p_{m}$ and $p_{d}$.\n",
    "\n",
    "The choice of model parameters \n",
    "\n",
    "$$\n",
    "\\Delta_{x}=\\sigma\\sqrt{3\\Delta_{t}}\\\\\n",
    "p_{u}=\\frac{1}{2}(s + a)\\\\\n",
    "p_{m}=1-s\\\\\n",
    "p_{d}=\\frac{1}{2}(s - a)\n",
    "$$\n",
    "\n",
    "where\n",
    "$$\n",
    "s=\\frac{\\sigma^{2}\\Delta_{t} + \\nu^{2}\\Delta_{t}^{2}}{\\Delta_{x}^{2}}\\\\\n",
    "a=\\frac{\\nu\\Delta_{t}}{\\Delta_{x}}\\\\\n",
    "\\nu=r-d-\\frac{1}{2}\\sigma^{2}\n",
    "$$\n",
    "\n",
    "The discounted expectation under risk-neutral probabilities at node $(i,j)$ is\n",
    "$$\n",
    "C_{i,j}=\\exp{(-r\\Delta_{t})}(p_{u}C_{i+1,j+1} + p_{m}C_{i+1,j} + p_{d}C_{i+1,j-1})\n",
    "$$\n",
    "\n"
   ]
  },
  {
   "cell_type": "code",
   "execution_count": 7,
   "metadata": {},
   "outputs": [],
   "source": [
    "def aTM_Euro(S0: float, K: float, r: float, sigma: float, div: float, T: float, Ntree: int, optype: str) -> list:\n",
    "    '''\n",
    "    S0: initial asset price\n",
    "    K: strike price\n",
    "    r: risk-free rate\n",
    "    sigma: volatility\n",
    "    div: continuous dividend yeild\n",
    "    T: time to maturity\n",
    "    Ntree: number of periods\n",
    "    optype: option type ('call' or 'put')\n",
    "    '''\n",
    "\n",
    "    dt = T/Ntree\n",
    "    sdt = np.sqrt(dt)\n",
    "    dx = np.sqrt(3)*sigma*sdt\n",
    "\n",
    "    dfact = np.exp(-r*dt) # discount factor\n",
    "\n",
    "    nu = (r-div)-0.5*sigma**2\n",
    "    sf = (sigma**2*dt + (nu*dt)**2)/dx**2\n",
    "    af = nu*dt/dx\n",
    "\n",
    "    # trinomial model probabilities\n",
    "    pu = 0.5*(sf + af)\n",
    "    pm = 1 - sf\n",
    "    pd = 0.5*(sf - af)\n",
    "\n",
    "    # parameter exception\n",
    "    if ((0<r) and (0<sigma)):\n",
    "        pass\n",
    "    else:\n",
    "        raise Exception('parameter values not allowed')\n",
    "    \n",
    "    #payoff matrix\n",
    "    j0 = Ntree # centre index\n",
    "    Pmat = np.zeros(shape=(2*Ntree+1,Ntree+1))\n",
    "    Kmat = np.zeros(shape=(2*Ntree+1,Ntree+1))\n",
    "\n",
    "    for t in range (Ntree+1): # asset price\n",
    "        exponents = np.arange(-t, t+1)\n",
    "        Pmat[j0-t:j0+(t+1), t] = S0*np.exp(dx*exponents[::-1])\n",
    "\n",
    "        Kmat[j0-t:j0+(t+1), t] = K # strike    \n",
    "    Pmat = Pmat-Kmat # payoffs\n",
    "\n",
    "    if optype == 'call':\n",
    "        Pmat[Pmat<0] = 0\n",
    "        Pmat = Pmat\n",
    "    elif optype == 'put':\n",
    "        Pmat[Pmat>0] = 0\n",
    "        Pmat = -Pmat\n",
    "    else: raise Exception('optype must be call or put')\n",
    "\n",
    "    # payoff at maturity T\n",
    "    Vmat = np.zeros(shape=(2*Ntree+1,Ntree+1))\n",
    "    Vmat[:,-1] = Pmat[:,-1]\n",
    "\n",
    "    # backward step wise option price calculation\n",
    "    for m, t in enumerate(range(Ntree-1,-1,-1)):\n",
    "        Vmat[j0-t:j0+(t+1), t] = dfact*(pu*Vmat[m:2*Ntree-(m+1), t+1] + pm*Vmat[m+1:2*Ntree-m, t+1] + pd*Vmat[m+2:2*Ntree-(m-1), t+1]) # European option\n",
    "    return (Vmat)   \n",
    "\n"
   ]
  },
  {
   "cell_type": "code",
   "execution_count": 8,
   "metadata": {},
   "outputs": [
    {
     "name": "stdout",
     "output_type": "stream",
     "text": [
      "[[ 0.     0.     0.    82.212]\n",
      " [ 0.     0.    49.678 49.182]\n",
      " [ 0.    24.08  22.905 22.14 ]\n",
      " [ 8.425  6.415  3.801  0.   ]\n",
      " [ 0.     0.652  0.     0.   ]\n",
      " [ 0.     0.     0.     0.   ]\n",
      " [ 0.     0.     0.     0.   ]]\n"
     ]
    }
   ],
   "source": [
    "price=aTM_Euro(S0=100, K=100, r=0.06, sigma=0.2, div=0.03, T=1, Ntree=3, optype='call')\n",
    "print(np.around(price,3))"
   ]
  },
  {
   "cell_type": "code",
   "execution_count": 76,
   "metadata": {},
   "outputs": [],
   "source": [
    "def aTM_Amer(S0: float, K: float, r: float, sigma: float, div: float, T: float, Ntree: int, optype: str, exmat: bool=False) -> list:\n",
    "    '''\n",
    "    S0: initial asset price\n",
    "    K: strike price\n",
    "    r: risk-free rate\n",
    "    sigma: volatility\n",
    "    div: continuous dividend yeild\n",
    "    T: time to maturity\n",
    "    Ntree: number of periods\n",
    "    optype: option type ('call' or 'put')\n",
    "    exmat: show early exercise\n",
    "    '''\n",
    "\n",
    "    dt = T/Ntree\n",
    "    sdt = np.sqrt(dt)\n",
    "    dx = np.sqrt(3)*sigma*sdt\n",
    "\n",
    "    dfact = np.exp(-r*dt) # discount factor\n",
    "\n",
    "    nu = (r-div)-0.5*sigma**2\n",
    "    sf = (sigma**2*dt + (nu*dt)**2)/dx**2\n",
    "    af = nu*dt/dx\n",
    "\n",
    "    # trinomial model probabilities\n",
    "    pu = 0.5*(sf + af)\n",
    "    pm = 1 - sf\n",
    "    pd = 0.5*(sf - af)\n",
    "\n",
    "    # parameter exception\n",
    "    if ((0<r) and (0<sigma)):\n",
    "        pass\n",
    "    else:\n",
    "        raise Exception('parameter values not allowed')\n",
    "    \n",
    "    #payoff matrix\n",
    "    j0 = Ntree # centre index\n",
    "    Pmat = np.zeros(shape=(2*Ntree+1,Ntree+1))\n",
    "    Kmat = np.zeros(shape=(2*Ntree+1,Ntree+1))\n",
    "\n",
    "    for t in range (Ntree+1): # asset price\n",
    "        exponents = np.arange(-t, t+1)\n",
    "        Pmat[j0-t:j0+(t+1), t] = S0*np.exp(dx*exponents[::-1])\n",
    "\n",
    "        Kmat[j0-t:j0+(t+1), t] = K # strike    \n",
    "    Pmat = Pmat-Kmat # payoffs\n",
    "\n",
    "    if optype == 'call':\n",
    "        Pmat[Pmat<0] = 0\n",
    "        Pmat = Pmat\n",
    "    elif optype == 'put':\n",
    "        Pmat[Pmat>0] = 0\n",
    "        Pmat = -Pmat\n",
    "    else: raise Exception('optype must be call or put')\n",
    "\n",
    "    # payoff at maturity T\n",
    "    Vmat = np.zeros(shape=(2*Ntree+1,Ntree+1))\n",
    "    Vmat[:,-1] = Pmat[:,-1]\n",
    "\n",
    "    # backward step wise option price calculation\n",
    "    if exmat == True:\n",
    "        Exmat = np.zeros(shape=(2*Ntree+1,Ntree+1))\n",
    "        for m, t in enumerate(range(Ntree-1,-1,-1)):\n",
    "            Vmat[j0-t:j0+(t+1), t] = np.maximum(dfact*(pu*Vmat[m:2*Ntree-(m+1), t+1] + pm*Vmat[m+1:2*Ntree-m, t+1] + pd*Vmat[m+2:2*Ntree-(m-1), t+1]), Pmat[j0-t:j0+(t+1), t]) # American option\n",
    "            Exmat[j0-t:j0+(t+1), t] = (dfact*(pu*Vmat[m:2*Ntree-(m+1), t+1] + pm*Vmat[m+1:2*Ntree-m, t+1] + pd*Vmat[m+2:2*Ntree-(m-1), t+1]) - Pmat[j0-t:j0+(t+1), t])<0 # early exercise\n",
    "        plt.matshow(Exmat, cmap=plt.cm.YlGn, aspect=0.5 )\n",
    "        plt.title('Early exercise')\n",
    "    if exmat == False:\n",
    "        for m, t in enumerate(range(Ntree-1,-1,-1)):\n",
    "            Vmat[j0-t:j0+(t+1), t] = np.maximum(dfact*(pu*Vmat[m:2*Ntree-(m+1), t+1] + pm*Vmat[m+1:2*Ntree-m, t+1] + pd*Vmat[m+2:2*Ntree-(m-1), t+1]), Pmat[j0-t:j0+(t+1), t]) # American option\n",
    "\n",
    "    return (Vmat) \n",
    "\n"
   ]
  },
  {
   "cell_type": "code",
   "execution_count": 95,
   "metadata": {},
   "outputs": [
    {
     "name": "stdout",
     "output_type": "stream",
     "text": [
      "[[ 0.     0.     0.    -0.   ]\n",
      " [ 0.     0.    -0.    -0.   ]\n",
      " [ 0.     0.437 -0.    -0.   ]\n",
      " [ 5.931  4.655  2.816 -0.   ]\n",
      " [ 0.    18.127 18.127 18.127]\n",
      " [ 0.     0.    32.968 32.968]\n",
      " [ 0.     0.     0.    45.119]]\n"
     ]
    },
    {
     "data": {
      "image/png": "[encoded data removed]",
      "text/plain": [
       "<Figure size 400x700 with 1 Axes>"
      ]
     },
     "metadata": {},
     "output_type": "display_data"
    }
   ],
   "source": [
    "price=aTM_Amer(S0=100, K=100, r=0.06, sigma=0.2, div=0.03, T=1,Ntree=3, optype='put', exmat=True)\n",
    "print(np.around(price,3))"
   ]
  }
 ],
 "metadata": {
  "kernelspec": {
   "display_name": "envfin",
   "language": "python",
   "name": "python3"
  },
  "language_info": {
   "codemirror_mode": {
    "name": "ipython",
    "version": 3
   },
   "file_extension": ".py",
   "mimetype": "text/x-python",
   "name": "python",
   "nbconvert_exporter": "python",
   "pygments_lexer": "ipython3",
   "version": "3.11.4"
  }
 },
 "nbformat": 4,
 "nbformat_minor": 2
}
