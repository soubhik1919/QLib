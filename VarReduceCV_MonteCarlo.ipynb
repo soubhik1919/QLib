{
 "cells": [
  {
   "cell_type": "code",
   "execution_count": 4,
   "metadata": {},
   "outputs": [],
   "source": [
    "import numpy as np\n",
    "import matplotlib.pyplot as plt\n",
    "from scipy.stats import norm"
   ]
  },
  {
   "cell_type": "code",
   "execution_count": 3,
   "metadata": {},
   "outputs": [],
   "source": [
    "def S1_GBM(S0: float, mu: list, sigma: list, T: float, n: int, nsim: int) -> list:\n",
    "    '''\n",
    "    S0: initial asset price\n",
    "    mu: mean rate of asset return\n",
    "    sigma: asset volatility\n",
    "    T: time period\n",
    "    n: number of steps\n",
    "    nsim: number of simulation of the asset price process\n",
    "    '''\n",
    "    dt = T/n\n",
    "    dw = np.sqrt(dt)*np.random.standard_normal(size=(nsim,n)) # generate the (nsim, n) brownian motion sample\n",
    "    dz = (mu-0.5*sigma**2)*dt + sigma*dw \n",
    "    Sn = np.exp(np.cumsum(dz, axis=1)) # generate the (nsim, n) geometric brownian momtion price process    \n",
    "    Sn = S0*np.concatenate((np.ones(shape=(nsim,1)),Sn), axis=1) # add the initial value\n",
    "\n",
    "    return (Sn)"
   ]
  },
  {
   "cell_type": "code",
   "execution_count": 67,
   "metadata": {},
   "outputs": [],
   "source": [
    "def BSprice(St: list, K: float, r: float, sigma: float, div: float, Tm: float, optype: str) -> float:\n",
    "\n",
    "    d0 = sigma*np.sqrt(Tm)\n",
    "    d1 = (np.log(St/K) + (r-div + 0.5*sigma**2)*Tm)/d0\n",
    "    d2 = d1 - d0\n",
    "    Nd1 = norm.cdf(d1)\n",
    "    Nd2 = norm.cdf(d2)\n",
    "\n",
    "    if optype == 'call':\n",
    "        BSprice = St*np.exp(-div*Tm)*Nd1 - np.exp(-r*Tm)*K*Nd2\n",
    "    elif optype == 'put':\n",
    "        BSprice = np.exp(-r*Tm)*K*(1-Nd2) - St*np.exp(-div*Tm)*(1-Nd1)\n",
    "    else: raise Exception('optype must be call or put')\n",
    "\n",
    "    return (BSprice)\n",
    "\n",
    "def BSdelta(St: list, K: float, r: float, sigma: float, div: float, Tm: float, optype: str) -> float:\n",
    "    d0 = sigma*np.sqrt(Tm)\n",
    "    d1 = (np.log(St/K) + (r-div + 0.5*sigma**2)*Tm)/d0\n",
    "    d2 = d1 - d0\n",
    "    Nd1 = norm.cdf(d1)\n",
    "\n",
    "    if optype == 'call':\n",
    "        BSdelta = Nd1\n",
    "    elif optype == 'put':\n",
    "        BSdelta = -(1-Nd1)\n",
    "    else: raise Exception('optype must be call or put')\n",
    "\n",
    "    return(BSdelta)\n",
    "\n"
   ]
  }
 ],
 "metadata": {
  "kernelspec": {
   "display_name": "envfin",
   "language": "python",
   "name": "python3"
  },
  "language_info": {
   "codemirror_mode": {
    "name": "ipython",
    "version": 3
   },
   "file_extension": ".py",
   "mimetype": "text/x-python",
   "name": "python",
   "nbconvert_exporter": "python",
   "pygments_lexer": "ipython3",
   "version": "3.11.4"
  }
 },
 "nbformat": 4,
 "nbformat_minor": 2
}
