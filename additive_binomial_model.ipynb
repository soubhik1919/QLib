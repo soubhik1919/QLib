{
 "cells": [
  {
   "cell_type": "code",
   "execution_count": 15,
   "metadata": {},
   "outputs": [],
   "source": [
    "import numpy as np\n",
    "import matplotlib.pyplot as plt"
   ]
  },
  {
   "cell_type": "code",
   "execution_count": 16,
   "metadata": {},
   "outputs": [],
   "source": [
    "# parameter choice definitions\n",
    "\n",
    "def CRR(r: float, sigma: float, T: float, nsteps: int) -> list:\n",
    "    dt = T/nsteps\n",
    "    sdt = np.sqrt(dt)\n",
    "    nu = r-0.5*sigma**2\n",
    "    u = np.exp(nu*dt + sigma*sdt)\n",
    "    d = np.exp(nu*dt - sigma*sdt)\n",
    "    p = 1/2\n",
    "    #print((np.exp(r*dt)-d)/(u-d))\n",
    "\n",
    "    return ([u, d, p])\n",
    "\n",
    "def JD(r: float, sigma: float, T: float, nsteps: int) -> list:\n",
    "    dt = T/nsteps\n",
    "    sdt = np.sqrt(dt)\n",
    "    nu = r-0.5*sigma**2\n",
    "    u = np.exp(sigma*sdt)\n",
    "    d = np.exp(-sigma*sdt)\n",
    "    p = 0.5*(1 + nu*sdt/sigma)\n",
    "    #print((np.exp(r*dt)-d)/(u-d))\n",
    "\n",
    "    return ([u, d, p])\n",
    "\n",
    "def EQP(r: float, sigma: float, T: float, nsteps: int) -> list:\n",
    "    dt = T/nsteps\n",
    "    sdt = np.sqrt(dt)\n",
    "    nu = r-0.5*sigma**2\n",
    "    u = np.exp(0.5*nu*dt + sigma*sdt)\n",
    "    d = np.exp(1.5*nu*dt - sigma*sdt)\n",
    "    p = 1/2\n",
    "    #print((np.exp(r*dt)-d)/(u-d))\n",
    "\n",
    "    return ([u, d, p])\n",
    "\n",
    "def TRG(r: float, sigma: float, T: float, nsteps: int) -> list:\n",
    "    dt = T/nsteps\n",
    "    sdt = np.sqrt(dt)\n",
    "    nu = r-0.5*sigma**2\n",
    "    dx = np.sqrt(sigma**2*dt + (nu*dt)**2)\n",
    "    u = np.exp(dx)\n",
    "    d = np.exp(-dx)\n",
    "    p = 0.5*(1 + nu*dt/dx)\n",
    "    #print((np.exp(r*dt)-d)/(u-d))\n",
    "\n",
    "    return ([u, d, p])\n"
   ]
  },
  {
   "cell_type": "markdown",
   "metadata": {},
   "source": [
    "### Additive Binomial Model ###\n",
    "The (additive) binomial asset price model specifies that in an interval $\\Delta t$ the log of asset price $x(=\\ln{S})$ can only go up by $\\Delta_{u}$ or down by $\\Delta_{d}$.\n",
    "\n",
    "Each $(i,j)$ in the model represents a node at time step $i$ having $j$ upward movements where $i \\in [0,N]$ and $j \\in [0,i]$.\n",
    "\n",
    "$$\n",
    "S_{i,j}=\\exp{x_{i,j}}=\\exp{(x_{0} + j\\Delta_{u} + (i-j)\\Delta_{d})}\n",
    "$$\n",
    "\n",
    "Computation of the option price by backward propagation remains same as the (multiplicative) binomial model."
   ]
  },
  {
   "cell_type": "code",
   "execution_count": 17,
   "metadata": {},
   "outputs": [],
   "source": [
    "def aBM_Euro(S0: float, K: float, r: float, sigma: float, T: float, Ntree: int, optype: str, mode: callable = TRG) -> float:\n",
    "    '''\n",
    "    S0: initial asset price\n",
    "    K: strike price\n",
    "    r: risk-free rate\n",
    "    sigma: volatility\n",
    "    T: time to maturity\n",
    "    Ntree: number of periods\n",
    "    optype: option type ('call' or 'put')\n",
    "    mode: parameter choice ('CRR', 'JD', 'EQP', 'TRG')\n",
    "    '''\n",
    "    if mode not in [CRR, JD, EQP, TRG]:\n",
    "        raise Exception('mode not defined')\n",
    "    else:\n",
    "        pass\n",
    "\n",
    "    dt = T/Ntree\n",
    "    dfact = np.exp(-r*dt) # discount factor    \n",
    "\n",
    "    params = mode(r=r, sigma=sigma, T=T, nsteps=Ntree)\n",
    "    u = params[0]\n",
    "    d = params[1]\n",
    "    p = params[2] # risk neutral probability of up move\n",
    "\n",
    "    lnu = np.log(u) # log change up\n",
    "    lnd = np.log(d) # log change down\n",
    "    \n",
    "    # parameter exception\n",
    "    if ((0<r) and (0<sigma)):\n",
    "        pass\n",
    "    else:\n",
    "        raise Exception('parameter values not allowed')\n",
    "\n",
    "    #payoff matrix\n",
    "    Pmat = np.zeros(shape=(Ntree+1,Ntree+1))\n",
    "    Pmat[Ntree, 0] = S0\n",
    "    for t in range (Ntree+1): # asset price\n",
    "        exponents = np.arange(t+1)\n",
    "        Pmat[Ntree-t:,t] = S0*np.exp((lnu*exponents[::-1])+(lnd*exponents))\n",
    "    Kmat = K*np.fliplr(np.tri(Ntree+1)) # strike\n",
    "    Pmat = Pmat-Kmat\n",
    "\n",
    "    if optype == 'call':\n",
    "        Pmat[Pmat<0] = 0\n",
    "        Pmat = Pmat\n",
    "    elif optype == 'put':\n",
    "        Pmat[Pmat>0] = 0\n",
    "        Pmat = -Pmat\n",
    "    else: raise Exception('optype must be call or put')\n",
    "\n",
    "    # payoff at maturity T\n",
    "    Vmat = np.zeros(shape=(Ntree+1,Ntree+1))\n",
    "    Vmat[:,-1] = Pmat[:,-1]\n",
    "\n",
    "    # backward step wise option price calculation\n",
    "    for m, t in enumerate(range(Ntree-1,-1,-1)):\n",
    "        Vmat[m+1:, t] = dfact*(p*Vmat[m:Ntree, t+1] + (1-p)*Vmat[m+1:, t+1]) \n",
    "    return (Vmat)    "
   ]
  },
  {
   "cell_type": "code",
   "execution_count": 18,
   "metadata": {},
   "outputs": [
    {
     "name": "stdout",
     "output_type": "stream",
     "text": [
      "[[ 0.     0.     0.    41.724]\n",
      " [ 0.     0.    28.143 12.326]\n",
      " [ 0.    18.297  6.734  0.   ]\n",
      " [11.592  3.679  0.     0.   ]]\n"
     ]
    }
   ],
   "source": [
    "price=aBM_Euro(S0=100, K=100, r=0.06, sigma=0.2, T=1, Ntree=3, optype='call')\n",
    "print(np.around(price,3))"
   ]
  },
  {
   "cell_type": "code",
   "execution_count": 20,
   "metadata": {},
   "outputs": [],
   "source": [
    "def aBM_Amer(S0: float, K: float, r: float, sigma: float, T: float, Ntree: int, optype: str, mode: callable = TRG, exmat: bool = False) -> float:\n",
    "    '''\n",
    "    S0: initial asset price\n",
    "    K: strike price\n",
    "    r: risk-free rate\n",
    "    sigma: volatility\n",
    "    T: time to maturity\n",
    "    Ntree: number of periods\n",
    "    optype: option type ('call' or 'put')\n",
    "    mode: parameter choice ('CRR', 'JD', 'EQP', 'TRG')\n",
    "    exmat: show early exercise\n",
    "    '''\n",
    "    if mode not in [CRR, JD, EQP, TRG]:\n",
    "        raise Exception('mode not defined')\n",
    "    else:\n",
    "        pass\n",
    "    \n",
    "    dt = T/Ntree\n",
    "    dfact = np.exp(-r*dt) # discount factor\n",
    "\n",
    "    params = mode(r=r, sigma=sigma, T=T, nsteps=Ntree)\n",
    "    u = params[0]\n",
    "    d = params[1]\n",
    "    p = params[2] # risk neutral probability of up move\n",
    "\n",
    "    lnu = np.log(u) # log change up\n",
    "    lnd = np.log(d) # log change down\n",
    "    \n",
    "    # parameter exception\n",
    "    if ((0<r) and (0<sigma)):\n",
    "        pass\n",
    "    else:\n",
    "        raise Exception('parameter values not allowed')\n",
    "\n",
    "    #payoff matrix\n",
    "    Pmat = np.zeros(shape=(Ntree+1,Ntree+1))\n",
    "    Pmat[Ntree, 0] = S0\n",
    "    for t in range (Ntree+1): # asset price\n",
    "        exponents = np.arange(t+1)\n",
    "        Pmat[Ntree-t:,t] = S0*np.exp((lnu*exponents[::-1])+(lnd*exponents))\n",
    "    Kmat = K*np.fliplr(np.tri(Ntree+1)) # strike\n",
    "    Pmat = Pmat-Kmat\n",
    "\n",
    "    if optype == 'call':\n",
    "        Pmat[Pmat<0] = 0\n",
    "        Pmat = Pmat\n",
    "    elif optype == 'put':\n",
    "        Pmat[Pmat>0] = 0\n",
    "        Pmat = -Pmat\n",
    "    else: raise Exception('optype must be call or put')\n",
    "\n",
    "    # payoff at maturity T\n",
    "    Vmat = np.zeros(shape=(Ntree+1,Ntree+1))\n",
    "    Vmat[:,-1] = Pmat[:,-1]\n",
    "\n",
    "    # backward step wise option price calculation\n",
    "    if exmat == True:\n",
    "        Exmat = np.zeros(shape=(Ntree+1,Ntree+1))\n",
    "        for m, t in enumerate(range(Ntree-1,-1,-1)):\n",
    "            Vmat[m+1:, t] = np.maximum(dfact*(p*Vmat[m:Ntree, t+1] + (1-p)*Vmat[m+1:, t+1]), Pmat[m+1:, t]) # modified for American option\n",
    "            Exmat[m+1:, t] = (dfact*(p*Vmat[m:Ntree, t+1] + (1-p)*Vmat[m+1:, t+1]) - Pmat[m+1:, t])<0 # early exercise\n",
    "        plt.matshow(Exmat, cmap=plt.cm.YlGn, aspect=0.5 )\n",
    "        plt.title('Early exercise')\n",
    "    if exmat == False:\n",
    "        for m, t in enumerate(range(Ntree-1,-1,-1)):\n",
    "            Vmat[m+1:, t] = np.maximum(dfact*(p*Vmat[m:Ntree, t+1] + (1-p)*Vmat[m+1:, t+1]), Pmat[m+1:, t]) # modified for American option\n",
    "\n",
    "    return (Vmat)"
   ]
  },
  {
   "cell_type": "code",
   "execution_count": 21,
   "metadata": {},
   "outputs": [
    {
     "name": "stdout",
     "output_type": "stream",
     "text": [
      "[[ 0.     0.     0.    -0.   ]\n",
      " [ 0.     0.    -0.    -0.   ]\n",
      " [ 0.     2.066  4.761 10.974]\n",
      " [ 6.162 11.601 20.743 29.44 ]]\n"
     ]
    },
    {
     "data": {
      "image/png": "[encoded data removed]",
      "text/plain": [
       "<Figure size 480x480 with 1 Axes>"
      ]
     },
     "metadata": {},
     "output_type": "display_data"
    }
   ],
   "source": [
    "price=aBM_Amer(S0=100, K=100, r=0.06, sigma=0.2, T=1, Ntree=3, optype='put', exmat=True)\n",
    "print(np.around(price,3))"
   ]
  }
 ],
 "metadata": {
  "kernelspec": {
   "display_name": "envfin",
   "language": "python",
   "name": "python3"
  },
  "language_info": {
   "codemirror_mode": {
    "name": "ipython",
    "version": 3
   },
   "file_extension": ".py",
   "mimetype": "text/x-python",
   "name": "python",
   "nbconvert_exporter": "python",
   "pygments_lexer": "ipython3",
   "version": "3.11.4"
  }
 },
 "nbformat": 4,
 "nbformat_minor": 2
}
